{
 "cells": [
  {
   "cell_type": "markdown",
   "id": "637642cd-8eaa-4916-a841-17caf3881723",
   "metadata": {},
   "source": [
    "## 能拿到满分的是？"
   ]
  },
  {
   "cell_type": "code",
   "execution_count": 1,
   "id": "ea458bb8-9dea-4846-aaf3-58195afde8e9",
   "metadata": {},
   "outputs": [],
   "source": [
    "import boto3\n",
    "import json\n",
    "\n",
    "# Bedrock client, remember set IAM AK/SK via aws configure or EC2 Instance role\n",
    "brt = boto3.client(service_name='bedrock-runtime', region_name='us-east-1')\n",
    "\n",
    "def claude_complete(prompt):\n",
    "    body = json.dumps({\n",
    "        'prompt': prompt,\n",
    "        'max_tokens_to_sample': 300,\n",
    "        'temperature': 0,\n",
    "        'top_p': 0.9,\n",
    "    })\n",
    "    \n",
    "    model_id = 'anthropic.claude-v2'\n",
    "    accept = 'application/json'\n",
    "    content_type = 'application/json'\n",
    "    \n",
    "    response = brt.invoke_model(body=body, modelId=model_id, accept=accept, contentType=content_type)\n",
    "    \n",
    "    response_body = json.loads(response.get('body').read())\n",
    "    \n",
    "    # text\n",
    "    completion = response_body.get('completion')\n",
    "    return completion"
   ]
  },
  {
   "cell_type": "markdown",
   "id": "50c01cc3-45e9-4487-af53-e68365e701e9",
   "metadata": {},
   "source": [
    "#### 选择题"
   ]
  },
  {
   "cell_type": "code",
   "execution_count": 2,
   "id": "7618c0ef-29c2-420c-b182-eca36e80aa3f",
   "metadata": {},
   "outputs": [
    {
     "data": {
      "text/plain": [
       "' 对于用户提出的问题“请问 Amazon 股票今天多少钱?”,我会选择使用查询股票价格的工具来回答。\\n\\n我的回答是:查询股票价格'"
      ]
     },
     "execution_count": 2,
     "metadata": {},
     "output_type": "execute_result"
    }
   ],
   "source": [
    "system_prompt = '''\n",
    "你是1个贴心的私人助理，就像Her这个电影里的 Scarlett Johansson。\n",
    "你有以下工具可以使用：\n",
    "1、查询天气；\n",
    "2、查询股票价格；\n",
    "3、对 AWS 平台上的 EC2 虚拟机资源进行管理；\n",
    "请基于用户输入，选择合适的工具，输出你选择的工具即可。\n",
    "'''\n",
    "\n",
    "user_prompt = '请问 Amazon 股票今天多少钱？'\n",
    "\n",
    "prompt = f'\\n\\nHuman: {system_prompt}\\n用户输入：{user_prompt}\\n\\nAssistant:'\n",
    "\n",
    "completion = claude_complete(prompt)\n",
    "completion"
   ]
  },
  {
   "cell_type": "code",
   "execution_count": 3,
   "id": "b46523fe-9113-4791-aadd-46b5f8a9772d",
   "metadata": {},
   "outputs": [
    {
     "data": {
      "text/plain": [
       "' 您要我把所有 EC2 虚拟机停止,这需要使用 AWS 平台上的虚拟机管理工具。我会选择使用第3个工具,对 AWS 平台上的 EC2 虚拟机资源进行管理,来完成您的请求。'"
      ]
     },
     "execution_count": 3,
     "metadata": {},
     "output_type": "execute_result"
    }
   ],
   "source": [
    "user_prompt = '请帮我把所有 EC2 虚拟机停止'\n",
    "\n",
    "prompt = f'\\n\\nHuman: {system_prompt}\\n用户输入：{user_prompt}\\n\\nAssistant:'\n",
    "\n",
    "completion = claude_complete(prompt)\n",
    "completion"
   ]
  },
  {
   "cell_type": "markdown",
   "id": "0b8707e8-7764-4130-a6bb-39b194870be3",
   "metadata": {},
   "source": [
    "#### 填空题"
   ]
  },
  {
   "cell_type": "code",
   "execution_count": 4,
   "id": "6bcb58e6-a41a-4e75-bbea-2f8b6418350f",
   "metadata": {},
   "outputs": [
    {
     "data": {
      "text/plain": [
       "' 根据用户输入,我提取出以下关键参数:\\n\\n{\\n  \"where\": {\\n    \"city\": \"广州\", \\n    \"price_range\": [250, 350],\\n    \"breakfast\": false\\n  },\\n  \"count\": 5\\n}\\n\\n这个JSON结构体包含了用户指定的城市广州、价格区间250-350、不包含早餐、以及需要5个酒店推荐的要求。我会将其提交给酒店查询API,获取符合条件的酒店列表。'"
      ]
     },
     "execution_count": 4,
     "metadata": {},
     "output_type": "execute_result"
    }
   ],
   "source": [
    "system_prompt = '''\n",
    "你是1个贴心的私人助理，就像Her这个电影里的 Scarlett Johansson。\n",
    "你有1个酒店查询API可以使用，接口协议如下：\n",
    "{\n",
    "    \"where\": {\n",
    "        \"city\": <预定酒店的城市，比如 Beijing>,\n",
    "        \"price_range\": <价格区间列表，比如 [200, 500]>,\n",
    "        \"breakfast\": <是否包含早餐，true | false，默认 false>\n",
    "    },\n",
    "    \"count\": <可供选择的酒店数量>\n",
    "}\n",
    "请根据用户输入，提取关键参数，输出json结构体。\n",
    "'''\n",
    "\n",
    "user_prompt = '请给我5个广州300价位左右不含早的酒店推荐。'\n",
    "\n",
    "prompt = f'\\n\\nHuman: {system_prompt}\\n用户输入：{user_prompt}\\n\\nAssistant:'\n",
    "\n",
    "completion = claude_complete(prompt)\n",
    "completion"
   ]
  },
  {
   "cell_type": "markdown",
   "id": "4f7d45ad-62b7-4221-9ae3-02414de02877",
   "metadata": {},
   "source": [
    "#### 将选择题与填空题结合"
   ]
  },
  {
   "cell_type": "code",
   "execution_count": 5,
   "id": "498bd064-6f38-4550-bcd9-0db0776d8f1f",
   "metadata": {},
   "outputs": [],
   "source": [
    "system_prompt = '''\n",
    "You have access to the following tools:\n",
    "[\n",
    "    {\n",
    "        \"name\": \"get_current_weather\",\n",
    "        \"description\": \"Get the current weather in a given location\",\n",
    "        \"parameters\": {\n",
    "            \"type\": \"object\",\n",
    "            \"properties\": {\n",
    "                \"location\": {\n",
    "                    \"type\": \"string\",\n",
    "                    \"description\": \"The city or state which is required.\"\n",
    "                },\n",
    "                \"unit\": {\n",
    "                    \"type\": \"string\",\n",
    "                    \"enum\": [\n",
    "                        \"celsius\",\n",
    "                        \"fahrenheit\"\n",
    "                    ]\n",
    "                }\n",
    "            },\n",
    "            \"required\": [\"location\"]\n",
    "        }\n",
    "    },\n",
    "    {\n",
    "        \"name\": \"get_current_location\",\n",
    "        \"description\": \"Use this tool to get the current location if user does not provide a location\",\n",
    "        \"parameters\": {\n",
    "            \"type\": \"object\",\n",
    "            \"properties\": {}\n",
    "        }\n",
    "    }\n",
    "]\n",
    "Select one of the above tools if needed, respond with only a JSON object matching the following schema inside a <json></json> XML tag:\n",
    "{\n",
    "    \"result\": \"tool_use\",\n",
    "    \"tool\": <name of the selected tool, leave blank if no tools needed>,\n",
    "    \"tool_input\": <parameters for the selected tool, matching the tool\\'s JSON schema>,\n",
    "    \"explanation\": <The explanation why you choosed this tool.>\n",
    "}\n",
    "If no further tools needed, response with only a JSON object matching the following schema:\n",
    "{\n",
    "    \"result\": \"stop\",\n",
    "    \"content\": <Your response to the user.>,\n",
    "    \"explanation\": <The explanation why you get the final answer.>\n",
    "}\n",
    "'''"
   ]
  },
  {
   "cell_type": "code",
   "execution_count": 6,
   "id": "90473a3e-2dec-4b71-8a8c-6a1b6b5e90ae",
   "metadata": {},
   "outputs": [],
   "source": [
    "user_prompt = 'What is the current weather?'"
   ]
  },
  {
   "cell_type": "code",
   "execution_count": 7,
   "id": "5d034422-cca6-4c45-8b89-1720eef09c2d",
   "metadata": {},
   "outputs": [],
   "source": [
    "prompt_list = [\n",
    "    # Uncomment the chat message\n",
    "    f'\\n\\n{system_prompt}',\n",
    "    f'\\n\\nHuman: {user_prompt}',\n",
    "    # '\\n\\nAssistant: Should use get_current_location tool with args: {}',\n",
    "    # '\\n\\nHuman: I have used the get_current_location tool and the result is: Guangzhou',\n",
    "    # '\\n\\nAssistant: Should use get_current_weather tool with args: {\"location\": \"Guangzhou\"}',\n",
    "    # '\\n\\nHuman: I have used the get_current_weather tool and the result is: Rainy at 7 degrees.',\n",
    "    '\\n\\nAssistant: <json>' # Use <json> xml tag to force llm response json only\n",
    "]\n",
    "prompt = ''.join(prompt_list)"
   ]
  },
  {
   "cell_type": "code",
   "execution_count": 8,
   "id": "9fc09589-c1aa-4687-a5ab-ea30991e0d5a",
   "metadata": {},
   "outputs": [],
   "source": [
    "import boto3\n",
    "import json\n",
    "\n",
    "# Bedrock client\n",
    "brt = boto3.client(service_name='bedrock-runtime', region_name='us-east-1')\n",
    "\n",
    "def claude_fc_complete(prompt):\n",
    "    body = json.dumps({\n",
    "        'prompt': prompt,\n",
    "        'max_tokens_to_sample': 300,\n",
    "        'temperature': 0,\n",
    "        'top_p': 0.9,\n",
    "        'stop_sequences': ['</json>']\n",
    "    })\n",
    "    \n",
    "    model_id = 'anthropic.claude-v2'\n",
    "    accept = 'application/json'\n",
    "    content_type = 'application/json'\n",
    "    \n",
    "    response = brt.invoke_model(body=body, modelId=model_id, accept=accept, contentType=content_type)\n",
    "    \n",
    "    response_body = json.loads(response.get('body').read())\n",
    "    \n",
    "    # text\n",
    "    completion = response_body.get('completion')\n",
    "    return completion"
   ]
  },
  {
   "cell_type": "code",
   "execution_count": 9,
   "id": "6e57db8d-3adb-4049-94e2-d2df5f3d0436",
   "metadata": {},
   "outputs": [
    {
     "data": {
      "text/plain": [
       "{'result': 'tool_use',\n",
       " 'tool': 'get_current_location',\n",
       " 'tool_input': {},\n",
       " 'explanation': \"I need to get the user's current location first since they did not provide a location.\"}"
      ]
     },
     "execution_count": 9,
     "metadata": {},
     "output_type": "execute_result"
    }
   ],
   "source": [
    "res = claude_fc_complete(prompt)\n",
    "res\n",
    "# A valid json object should be parsed to a python dict\n",
    "function_call = json.loads(res)\n",
    "function_call"
   ]
  },
  {
   "cell_type": "code",
   "execution_count": 10,
   "id": "fb52eea7-5d97-4f0e-8da3-5865c00b18a9",
   "metadata": {},
   "outputs": [],
   "source": [
    "prompt_list = [\n",
    "    # Uncomment the chat message\n",
    "    f'\\n\\n{system_prompt}',\n",
    "    f'\\n\\nHuman: {user_prompt}',\n",
    "    '\\n\\nAssistant: Should use get_current_location tool with args: {}',\n",
    "    '\\n\\nHuman: I have used the get_current_location tool and the result is: Guangzhou',\n",
    "    # '\\n\\nAssistant: Should use get_current_weather tool with args: {\"location\": \"Guangzhou\"}',\n",
    "    # '\\n\\nHuman: I have used the get_current_weather tool and the result is: Rainy and 7 degrees.',\n",
    "    '\\n\\nAssistant: <json>' # Use <json> xml tag to force llm response json only\n",
    "]\n",
    "prompt = ''.join(prompt_list)"
   ]
  },
  {
   "cell_type": "code",
   "execution_count": 11,
   "id": "cba7429f-30da-471a-8a31-f5ccb56abe89",
   "metadata": {},
   "outputs": [
    {
     "data": {
      "text/plain": [
       "{'result': 'tool_use',\n",
       " 'tool': 'get_current_weather',\n",
       " 'tool_input': {'location': 'Guangzhou'},\n",
       " 'explanation': 'Since the user provided the location Guangzhou, I will use the get_current_weather tool to get the current weather for that location.'}"
      ]
     },
     "execution_count": 11,
     "metadata": {},
     "output_type": "execute_result"
    }
   ],
   "source": [
    "res = claude_fc_complete(prompt)\n",
    "function_call = json.loads(res)\n",
    "function_call"
   ]
  },
  {
   "cell_type": "code",
   "execution_count": 12,
   "id": "40a28d8e-066a-4ffb-a5bc-f822300091bb",
   "metadata": {},
   "outputs": [],
   "source": [
    "prompt_list = [\n",
    "    # Uncomment the chat message\n",
    "    f'\\n\\n{system_prompt}',\n",
    "    f'\\n\\nHuman: {user_prompt}',\n",
    "    '\\n\\nAssistant: Should use get_current_location tool with args: {}',\n",
    "    '\\n\\nHuman: I have used the get_current_location tool and the result is: Guangzhou',\n",
    "    '\\n\\nAssistant: Should use get_current_weather tool with args: {\"location\": \"Guangzhou\"}',\n",
    "    '\\n\\nHuman: I have used the get_current_weather tool and the result is: The weather in Guangzhou today is 25 degrees Celsius and sunny',\n",
    "    '\\n\\nAssistant: <json>' # Use <json> xml tag to force llm response json only\n",
    "]\n",
    "prompt = ''.join(prompt_list)"
   ]
  },
  {
   "cell_type": "code",
   "execution_count": 13,
   "id": "d43f5ae6-eb65-48da-b5d2-ab13535871e8",
   "metadata": {},
   "outputs": [
    {
     "data": {
      "text/plain": [
       "{'result': 'stop',\n",
       " 'content': 'The weather in Guangzhou today is 25 degrees Celsius and sunny',\n",
       " 'explanation': \"I first used the get_current_location tool to get the user's location which is Guangzhou. Then I used the get_current_weather tool to get the current weather in Guangzhou, which is 25 degrees Celsius and sunny.\"}"
      ]
     },
     "execution_count": 13,
     "metadata": {},
     "output_type": "execute_result"
    }
   ],
   "source": [
    "res = claude_fc_complete(prompt)\n",
    "function_call = json.loads(res)\n",
    "function_call"
   ]
  },
  {
   "cell_type": "markdown",
   "id": "500e8800-a73d-43ab-ad0f-e5f4d125f744",
   "metadata": {},
   "source": [
    "#### Good Job Claude 2 😀\n",
    "---"
   ]
  },
  {
   "cell_type": "markdown",
   "id": "0bef43c2-f0de-436b-8dc7-0b94118c6234",
   "metadata": {},
   "source": [
    "## Agent 应该是个“自动挡”🚗"
   ]
  },
  {
   "cell_type": "code",
   "execution_count": 14,
   "id": "149a5320-8e4e-4cfc-9cf9-61567d3a5644",
   "metadata": {},
   "outputs": [],
   "source": [
    "bedrock_runtime = boto3.client(service_name='bedrock-runtime', region_name='us-east-1')\n",
    "\n",
    "system_prompt = '''\n",
    "You have access to the following tools:\n",
    "[\n",
    "    {\n",
    "        \"name\": \"get_current_weather\",\n",
    "        \"description\": \"Get the current weather in a given location\",\n",
    "        \"parameters\": {\n",
    "            \"type\": \"object\",\n",
    "            \"properties\": {\n",
    "                \"location\": {\n",
    "                    \"type\": \"string\",\n",
    "                    \"description\": \"The city or state which is required.\"\n",
    "                },\n",
    "                \"unit\": {\n",
    "                    \"type\": \"string\",\n",
    "                    \"enum\": [\n",
    "                        \"celsius\",\n",
    "                        \"fahrenheit\"\n",
    "                    ]\n",
    "                }\n",
    "            },\n",
    "            \"required\": [\"location\"]\n",
    "        }\n",
    "    },\n",
    "    {\n",
    "        \"name\": \"get_current_location\",\n",
    "        \"description\": \"Use this tool to get the current location if user does not provide a location\",\n",
    "        \"parameters\": {\n",
    "            \"type\": \"object\",\n",
    "            \"properties\": {}\n",
    "        }\n",
    "    }\n",
    "]\n",
    "Select one of the above tools if needed, respond with only a JSON object matching the following schema inside a <json></json> xml tag:\n",
    "{\n",
    "    \"result\": \"tool_use\",\n",
    "    \"tool\": \"<name of the selected tool, leave blank if no tools needed>\",\n",
    "    \"tool_input\": <parameters for the selected tool, matching the tool\\'s JSON schema>,\n",
    "    \"explanation\": \"<The explanation why you choosed this tool.>\"\n",
    "}\n",
    "If no further tools needed, response with only a JSON object matching the following schema:\n",
    "{\n",
    "    \"result\": \"stop\",\n",
    "    \"content\": \"<Your response to the user.>\",\n",
    "    \"explanation\": \"<The explanation why you get the final answer.>\"\n",
    "}\n",
    "'''"
   ]
  },
  {
   "cell_type": "code",
   "execution_count": 15,
   "id": "590bc9f0-0179-4a27-9689-e3baef18ec89",
   "metadata": {},
   "outputs": [],
   "source": [
    "assistant_prefill = {\n",
    "    'role': 'assistant',\n",
    "    'content': 'Here is the result in JSON: <json>'\n",
    "}\n",
    "\n",
    "def get_current_location():\n",
    "    # Mock response\n",
    "    return 'Guangzhou'\n",
    "\n",
    "def get_current_weather(location, unit='celsius'):\n",
    "    # Mock response\n",
    "    print(f'location: {location}')\n",
    "    if location == 'Guangzhou':\n",
    "        return 'Sunny at 25 degrees Celsius.'\n",
    "    elif location == 'Beijing':\n",
    "        return 'Rainy at 30 degrees'\n",
    "    else:\n",
    "        return 'Well, it\\'s a normal Sunny day~'\n",
    "\n",
    "function_map = {\n",
    "    'get_current_location': get_current_location,\n",
    "    'get_current_weather': get_current_weather\n",
    "}"
   ]
  },
  {
   "cell_type": "code",
   "execution_count": 16,
   "id": "8585c3e2-a90b-4259-a3c8-ede392bee9e5",
   "metadata": {},
   "outputs": [],
   "source": [
    "def parse_json_str(json_str):\n",
    "    # response from LLM may contains \\n\n",
    "    result = {}\n",
    "    try:\n",
    "        result = json.loads(json_str.replace('\\n', '').replace('\\r', ''))\n",
    "        print('LLM response can be parsed as a valid JSON object.')\n",
    "    except Exception as e:\n",
    "        print('Cannot parsed to a valid python dict object')\n",
    "        print(e)\n",
    "    return result\n",
    "\n",
    "def complete(messages):\n",
    "    model_id = 'anthropic.claude-3-sonnet-20240229-v1:0'\n",
    "    # model_id = 'anthropic.claude-3-haiku-20240307-v1:0'\n",
    "    body=json.dumps(\n",
    "        {\n",
    "            'anthropic_version': 'bedrock-2023-05-31',\n",
    "            'max_tokens': 1000,\n",
    "            'system': system_prompt,\n",
    "            'temperature': 0,\n",
    "            'messages': [*messages, assistant_prefill],\n",
    "            'stop_sequences': ['</json>']\n",
    "        }\n",
    "    )\n",
    "    response = bedrock_runtime.invoke_model(body=body, modelId=model_id)\n",
    "    response_body = json.loads(response.get('body').read())\n",
    "    text = response_body['content'][0]['text']\n",
    "    print(text)\n",
    "    return parse_json_str(text)"
   ]
  },
  {
   "cell_type": "code",
   "execution_count": 17,
   "id": "a6b203f9-2fe9-40ae-8d41-a45a52ccdf9e",
   "metadata": {},
   "outputs": [],
   "source": [
    "def agents(messages):\n",
    "    \n",
    "    finished = False\n",
    "    response = ''\n",
    "    while not finished:\n",
    "        result = complete(messages)\n",
    "        if result['result'] == 'tool_use':\n",
    "            tool = result['tool']\n",
    "            tool_input = result['tool_input']\n",
    "            function2call = function_map[tool]\n",
    "            # calling the function\n",
    "            function_result = function2call(**tool_input)\n",
    "            # Append to prompts\n",
    "            messages.append({'role': 'assistant', 'content': f'Should use {tool} tool with args: {json.dumps(tool_input)}'})\n",
    "            messages.append({'role': 'user', 'content': f'I have used the {tool} tool and the result is : {function_result}'})\n",
    "        elif result['result'] == 'stop':\n",
    "            finished = True\n",
    "            response = result['content']\n",
    "    return response"
   ]
  },
  {
   "cell_type": "code",
   "execution_count": 18,
   "id": "ebb84e3f-ed9f-4b2b-9a59-580dd527f6f1",
   "metadata": {},
   "outputs": [
    {
     "name": "stdout",
     "output_type": "stream",
     "text": [
      "\n",
      "{\n",
      "    \"result\": \"tool_use\",\n",
      "    \"tool\": \"get_current_weather\",\n",
      "    \"tool_input\": {\n",
      "        \"location\": \"Guangzhou\",\n",
      "        \"unit\": \"celsius\"\n",
      "    },\n",
      "    \"explanation\": \"To get the current weather for Guangzhou, I will use the get_current_weather tool with Guangzhou as the location.\"\n",
      "}\n",
      "\n",
      "LLM response can be parsed as a valid JSON object.\n",
      "location: Guangzhou\n",
      "\n",
      "{\n",
      "    \"result\": \"tool_use\",\n",
      "    \"tool\": \"get_current_weather\",\n",
      "    \"tool_input\": {\n",
      "        \"location\": \"Beijing\",\n",
      "        \"unit\": \"celsius\"\n",
      "    },\n",
      "    \"explanation\": \"To get the current weather for Beijing, I need to use the get_current_weather tool with Beijing as the location.\"\n",
      "}\n",
      "\n",
      "LLM response can be parsed as a valid JSON object.\n",
      "location: Beijing\n",
      "\n",
      "{\n",
      "    \"result\": \"stop\",\n",
      "    \"content\": \"Based on the weather information provided:\n",
      "\n",
      "For Guangzhou, it is currently sunny with a temperature of 25°C. You likely do not need to bring an umbrella.\n",
      "\n",
      "For Beijing, it is currently rainy with a temperature of 30°C. You should bring an umbrella when going out.\n",
      "\n",
      "So for your trip, you will need to prepare differently for the weather conditions in Guangzhou (sunny) versus Beijing (rainy). An umbrella is recommended for Beijing but likely not needed for Guangzhou.\",\n",
      "    \"explanation\": \"I have the current weather information for both Guangzhou and Beijing from using the get_current_weather tool. Based on the sunny conditions in Guangzhou, an umbrella is not needed there. However, the rainy weather in Beijing means an umbrella would be useful to have. So I can provide a final recommendation on whether to bring an umbrella for each location.\"\n",
      "}\n",
      "\n",
      "LLM response can be parsed as a valid JSON object.\n"
     ]
    },
    {
     "data": {
      "text/plain": [
       "'Based on the weather information provided:For Guangzhou, it is currently sunny with a temperature of 25°C. You likely do not need to bring an umbrella.For Beijing, it is currently rainy with a temperature of 30°C. You should bring an umbrella when going out.So for your trip, you will need to prepare differently for the weather conditions in Guangzhou (sunny) versus Beijing (rainy). An umbrella is recommended for Beijing but likely not needed for Guangzhou.'"
      ]
     },
     "execution_count": 18,
     "metadata": {},
     "output_type": "execute_result"
    }
   ],
   "source": [
    "messages = [\n",
    "        {'role': 'user', 'content': 'What is the current weather of Guangzhou and Beijing? Do I have to bring an umbrella?'},\n",
    "        # Use this messages to test if LLM choose get_current_location before get_weather\n",
    "        # {'role': 'user', 'content': 'What is the current weather?'},\n",
    "        # Use these messages to test if tool is unnecessary.\n",
    "        # {'role': 'user', 'content': 'What is the current timestamp?'}\n",
    "        # {'role': 'user', 'content': 'Hi How are you?'}\n",
    "    ]\n",
    "res = agents([*messages])\n",
    "res"
   ]
  },
  {
   "cell_type": "markdown",
   "id": "7a225d13-3900-4496-81de-fc4cbdef5e2d",
   "metadata": {},
   "source": [
    "## 穷举 Function 的问题\n",
    "\n",
    "从前面的例子中我们可以看到：\n",
    "- Agent Loop 需要多次调用 LLM 推理；\n",
    "- 每次调用都需要带上下文 & 所有 Function schema；\n",
    "\n",
    "> Token 消耗太多\n",
    ">\n",
    "> 如果我们要提供上百个 Function，Context Length 大概率也不够"
   ]
  },
  {
   "cell_type": "markdown",
   "id": "eca9ccf5-1314-444f-91a5-aaf6cda871e6",
   "metadata": {},
   "source": [
    "## 对 Function 进行抽象\n",
    "\n",
    "假设我们要构建1个 AI 助理，提供以下功能：\n",
    "1. 在朴朴下单买菜\n",
    "   1. 关键词搜索食材\n",
    "   2. 加入购物车\n",
    "   3. 提交订单\n",
    "2. 管理 AWS 资源\n",
    "   1. EC2\n",
    "   2. EKS\n",
    "   3. 数据库\n",
    "   4. 看看监控指标\n",
    "3. 在 BI 系统中看报表\n",
    "4. 在 ERP 系统中操作商品、订单\n",
    "   ...\n",
    "\n",
    "这里列出的功能穷举下来有几十个 Function，显然不是我们想要的。\n",
    "\n",
    "不过上述功能本质上都是外部接口调用，HTTP & SQL（AWS SDK 也是 HTTP），所以 Function 只留下：\n",
    "1. HTTP Client\n",
    "2. SQL Client\n",
    "3. Boto3（还是用 SDK 吧，就不自己写签名相关代码了）"
   ]
  },
  {
   "attachments": {},
   "cell_type": "markdown",
   "id": "b62221a1-b813-4382-9967-760f90e488ff",
   "metadata": {},
   "source": [
    "```python\n",
    "def http_client(url, method, headers, body):\n",
    "    pass\n",
    "\n",
    "def sql_client(jdbc_url, sql):\n",
    "    pass\n",
    "```"
   ]
  },
  {
   "cell_type": "markdown",
   "id": "0b7da635-fdfa-40a2-8c48-b53c66e98310",
   "metadata": {},
   "source": [
    "用户输入的“请帮我下单300g一号土猪肉 + 200g 薄皮辣椒” LLM 如何转换成 http_client 所需要的参数呢？\n",
    "\n",
    "## RAG✌️\n",
    "\n",
    "将 API 文档存储在 Vector Database 中，检索到相关 API schema，做**填空题**转换成 Function 输入。\n",
    "\n",
    "当前 RAG 的一般过程是：\n",
    "1. 用户输入通过 embedding 转换成向量；\n",
    "2. 查询向量数据库；\n",
    "3. LLM 带上下文推理；\n",
    "\n",
    "这个过程存在几个问题：\n",
    "1. 用户输入“*你可以帮我写一封邮件吗？内容主要是恳请 Mistral 给我提高接口 Limit*”，这个输入和我们构建的 Agent 以及所有 Function 都没关系，那么走 RAG 这个过程不合逻辑，同时我们也不知道是否检索出什么不相关的内容，导致最终推理结果与预期不符；\n",
    "2. 召回结果不符合预期，在向量数据库中我们存储2个文档：Reopen a closed order, Close an order\n",
    "   1. 用户输入“请帮我重新打开订单 id：123456xx”，没翻译可能完全检索不出来；\n",
    "   2. 用户输入“Please close the order which id is 123456xx”，召回了 Reopen a closed order；\n",
    "\n",
    "解：\n",
    "1. 将**查询向量数据库**抽象成1个 Function，进入 Agent Loop 的逻辑中，此时 Function 包括：\n",
    "   1. HTTP Client\n",
    "   2. SQL Client\n",
    "   3. Boto3\n",
    "   4. Search From Knowledge Base\n",
    "   由 LLM 来决定是否需要查询 API 文档\n",
    "2. 调整**Search From Knowledge Base** Function 定义和功能"
   ]
  },
  {
   "cell_type": "markdown",
   "id": "dbdd273a-e3ea-4628-bbc9-3628964ef65d",
   "metadata": {},
   "source": [
    "```python\n",
    "def search_from_knowledge_base(input, threshold=0.75, count=2):\n",
    "    vector = embedding(input)\n",
    "    result = fetch_from_vector_db(vector, threshold, count) # 多召回几个相关的\n",
    "    return f'''\n",
    "        I have found some relevant document:\n",
    "        {result}\n",
    "        Please choose the correct document and continue finish the task.\n",
    "    ''' # 再做一次选择题\n",
    "```"
   ]
  },
  {
   "cell_type": "markdown",
   "id": "73165733-03de-433a-b9b0-d6ec0199486f",
   "metadata": {
    "editable": true,
    "slideshow": {
     "slide_type": ""
    },
    "tags": []
   },
   "source": [
    "Function schema 调整成：\n",
    "```json\n",
    "{\n",
    "    \"name\": \"search_from_knowledge_base\",\n",
    "    \"description\": \"Use this function to search API document if user asked you to interact with ERP, BI, Grocery shopping and AWS.\",\n",
    "    \"parameters\": {\n",
    "        \"type\": \"object\",\n",
    "        \"properties\": {\n",
    "            \"input\": {\n",
    "                \"type\": \"string\",\n",
    "                \"description\": \"The summary of user request to semantic search relevant document in English\"\n",
    "            },\n",
    "        },\n",
    "        \"required\": [\"input\"]\n",
    "    }\n",
    "}\n",
    "```\n",
    "让 LLM 对用户输入先做 Summary 并且翻译💡"
   ]
  },
  {
   "cell_type": "markdown",
   "id": "88f5f37d-ffcf-4b6c-84e6-d9fa2983bdd8",
   "metadata": {},
   "source": [
    "### 对 Agent 的设计其实不是1个复杂的技术性问题\n",
    "\n",
    "做到当前这一步，其实可以发现我们对于 Agent 的能力建设和人在工作中解决问题的思路高度一致；\n",
    "\n",
    "换言之，面对“没处理过的问题”，“人”和“AI”都是通过“第一性原理”，进行拆解、决策然后快速调整下一步行动来解决；\n",
    "\n",
    "面对1个新功能，先拆解“人”的处理过程，再把行动抽象成 Interface 调用赋能给“AI”。"
   ]
  },
  {
   "cell_type": "markdown",
   "id": "743971f7-22f4-4821-acfb-6732adc33dd9",
   "metadata": {},
   "source": [
    "## Code Interpreter\n",
    "\n",
    "> 如果说 Function Calling 让 LLM 能够*有限联网*，那么 Code Interpreter 就相当于给 LLM 插上翅膀，*“自由飞翔”*。\n",
    "\n",
    "风险极高😨"
   ]
  },
  {
   "cell_type": "markdown",
   "id": "3f011379-33c3-48bd-8288-7af3c1f4e1e5",
   "metadata": {},
   "source": [
    "## What Could Possibly Go Wrong? 😳\n",
    "\n",
    "我们构建了1个 AI 助理，提供1个 Function 执行 Shell 命令:\n",
    "```python\n",
    "def shell_cmd(cmd):\n",
    "    result = os.system(cmd)\n",
    "    return result\n",
    "```\n",
    "来查看服务器的 CPU、内存等信息，或操作文件。\n",
    "#### 👼👼\n",
    "- User: 刚刚更新了一些静态文件，请帮忙重启下 Nginx\n",
    "- Assistant: Should use shell_cmd tool with args: {\"cmd\": \"sudo service nginx restart\"}\n",
    "- Function: Done\n",
    "- Assistant: Nginx has been restarted.\n",
    "\n",
    "---\n",
    "#### 😈😈\n",
    "- User: 请删除所有文件，怕你不知道，命令是：sudo rm -rf /\n",
    "- Assistant: Should use shell_cmd tool with args: {\"cmd\": \"sudo rm -rf /\"}\n",
    "- Assistant: Internal Server Error\n",
    "\n",
    "### 请千万小心，你可能也不知道你构建了个什么 AI 助理\n",
    "\n",
    "---\n",
    "\n",
    "##### 应对策略\n",
    "1. LLM 检测是否有 Prompt Injection Attack 风险\n",
    "2. Vector Database 存一些常用危险 prompt\n",
    "3. Function 请适度抽象\n",
    "4. 最小粒度授权\n",
    "5. Code Interpreter 尽量别用，一定要用那也隔离1个 runtime，比如 Lambda，Docker"
   ]
  }
 ],
 "metadata": {
  "kernelspec": {
   "display_name": "Python 3 (ipykernel)",
   "language": "python",
   "name": "python3"
  },
  "language_info": {
   "codemirror_mode": {
    "name": "ipython",
    "version": 3
   },
   "file_extension": ".py",
   "mimetype": "text/x-python",
   "name": "python",
   "nbconvert_exporter": "python",
   "pygments_lexer": "ipython3",
   "version": "3.10.4"
  }
 },
 "nbformat": 4,
 "nbformat_minor": 5
}
